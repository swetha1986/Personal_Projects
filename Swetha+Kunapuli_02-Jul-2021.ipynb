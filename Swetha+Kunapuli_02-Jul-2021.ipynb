{
 "cells": [
  {
   "cell_type": "markdown",
   "metadata": {
    "id": "98yskoA9197_"
   },
   "source": [
    "#### Instructions:\n",
    "\n",
    "For all questions after 10th, Please only use the data specified in the note given just below the question\n",
    "You need to add answers in the same file i.e. PDS_UberDriveProject_Questions.ipynb' and rename that file as 'Name_Date.ipynb'.You can mention the date on which you will be uploading/submitting the file.For e.g. if you plan to submit your assignment on 1st January 2021, you can rename the file as 'STUDENTNAME_01-Jan-2021'"
   ]
  },
  {
   "cell_type": "markdown",
   "metadata": {
    "id": "WiVXvuYj198C"
   },
   "source": [
    "# Load the necessary libraries. Import and load the dataset with a name uber_drives ."
   ]
  },
  {
   "cell_type": "code",
   "execution_count": 1,
   "metadata": {
    "id": "1t_S2Qw_198D"
   },
   "outputs": [],
   "source": [
    "import numpy as np\n",
    "import pandas as pd\n",
    "import matplotlib.pyplot as plt\n",
    "import seaborn as sns\n",
    "sns.set(color_codes=True)\n",
    "%matplotlib inline"
   ]
  },
  {
   "cell_type": "code",
   "execution_count": 3,
   "metadata": {
    "id": "rOMfio427XfR"
   },
   "outputs": [],
   "source": [
    "# Get the Data\n",
    "uber = pd.read_csv('C:/Users/swetha/Downloads/uberdrive.csv')"
   ]
  },
  {
   "cell_type": "markdown",
   "metadata": {
    "id": "DZktgL3E198I"
   },
   "source": [
    "## Q1. Show the last 10 records of the dataset. (2 point)"
   ]
  },
  {
   "cell_type": "code",
   "execution_count": 4,
   "metadata": {
    "colab": {
     "base_uri": "https://localhost:8080/",
     "height": 359
    },
    "id": "pk7z2uii198I",
    "outputId": "d08542a6-facc-4407-c359-c396ae9859a4"
   },
   "outputs": [
    {
     "data": {
      "text/html": [
       "<div>\n",
       "<style scoped>\n",
       "    .dataframe tbody tr th:only-of-type {\n",
       "        vertical-align: middle;\n",
       "    }\n",
       "\n",
       "    .dataframe tbody tr th {\n",
       "        vertical-align: top;\n",
       "    }\n",
       "\n",
       "    .dataframe thead th {\n",
       "        text-align: right;\n",
       "    }\n",
       "</style>\n",
       "<table border=\"1\" class=\"dataframe\">\n",
       "  <thead>\n",
       "    <tr style=\"text-align: right;\">\n",
       "      <th></th>\n",
       "      <th>START_DATE*</th>\n",
       "      <th>END_DATE*</th>\n",
       "      <th>CATEGORY*</th>\n",
       "      <th>START*</th>\n",
       "      <th>STOP*</th>\n",
       "      <th>MILES*</th>\n",
       "      <th>PURPOSE*</th>\n",
       "    </tr>\n",
       "  </thead>\n",
       "  <tbody>\n",
       "    <tr>\n",
       "      <th>1145</th>\n",
       "      <td>12/30/2016 10:15</td>\n",
       "      <td>12/30/2016 10:33</td>\n",
       "      <td>Business</td>\n",
       "      <td>Karachi</td>\n",
       "      <td>Karachi</td>\n",
       "      <td>2.8</td>\n",
       "      <td>Errand/Supplies</td>\n",
       "    </tr>\n",
       "    <tr>\n",
       "      <th>1146</th>\n",
       "      <td>12/30/2016 11:31</td>\n",
       "      <td>12/30/2016 11:56</td>\n",
       "      <td>Business</td>\n",
       "      <td>Karachi</td>\n",
       "      <td>Karachi</td>\n",
       "      <td>2.9</td>\n",
       "      <td>Errand/Supplies</td>\n",
       "    </tr>\n",
       "    <tr>\n",
       "      <th>1147</th>\n",
       "      <td>12/30/2016 15:41</td>\n",
       "      <td>12/30/2016 16:03</td>\n",
       "      <td>Business</td>\n",
       "      <td>Karachi</td>\n",
       "      <td>Karachi</td>\n",
       "      <td>4.6</td>\n",
       "      <td>Errand/Supplies</td>\n",
       "    </tr>\n",
       "    <tr>\n",
       "      <th>1148</th>\n",
       "      <td>12/30/2016 16:45</td>\n",
       "      <td>12/30/2016 17:08</td>\n",
       "      <td>Business</td>\n",
       "      <td>Karachi</td>\n",
       "      <td>Karachi</td>\n",
       "      <td>4.6</td>\n",
       "      <td>Meeting</td>\n",
       "    </tr>\n",
       "    <tr>\n",
       "      <th>1149</th>\n",
       "      <td>12/30/2016 23:06</td>\n",
       "      <td>12/30/2016 23:10</td>\n",
       "      <td>Business</td>\n",
       "      <td>Karachi</td>\n",
       "      <td>Karachi</td>\n",
       "      <td>0.8</td>\n",
       "      <td>Customer Visit</td>\n",
       "    </tr>\n",
       "    <tr>\n",
       "      <th>1150</th>\n",
       "      <td>12/31/2016 1:07</td>\n",
       "      <td>12/31/2016 1:14</td>\n",
       "      <td>Business</td>\n",
       "      <td>Karachi</td>\n",
       "      <td>Karachi</td>\n",
       "      <td>0.7</td>\n",
       "      <td>Meeting</td>\n",
       "    </tr>\n",
       "    <tr>\n",
       "      <th>1151</th>\n",
       "      <td>12/31/2016 13:24</td>\n",
       "      <td>12/31/2016 13:42</td>\n",
       "      <td>Business</td>\n",
       "      <td>Karachi</td>\n",
       "      <td>Unknown Location</td>\n",
       "      <td>3.9</td>\n",
       "      <td>Temporary Site</td>\n",
       "    </tr>\n",
       "    <tr>\n",
       "      <th>1152</th>\n",
       "      <td>12/31/2016 15:03</td>\n",
       "      <td>12/31/2016 15:38</td>\n",
       "      <td>Business</td>\n",
       "      <td>Unknown Location</td>\n",
       "      <td>Unknown Location</td>\n",
       "      <td>16.2</td>\n",
       "      <td>Meeting</td>\n",
       "    </tr>\n",
       "    <tr>\n",
       "      <th>1153</th>\n",
       "      <td>12/31/2016 21:32</td>\n",
       "      <td>12/31/2016 21:50</td>\n",
       "      <td>Business</td>\n",
       "      <td>Katunayake</td>\n",
       "      <td>Gampaha</td>\n",
       "      <td>6.4</td>\n",
       "      <td>Temporary Site</td>\n",
       "    </tr>\n",
       "    <tr>\n",
       "      <th>1154</th>\n",
       "      <td>12/31/2016 22:08</td>\n",
       "      <td>12/31/2016 23:51</td>\n",
       "      <td>Business</td>\n",
       "      <td>Gampaha</td>\n",
       "      <td>Ilukwatta</td>\n",
       "      <td>48.2</td>\n",
       "      <td>Temporary Site</td>\n",
       "    </tr>\n",
       "  </tbody>\n",
       "</table>\n",
       "</div>"
      ],
      "text/plain": [
       "           START_DATE*         END_DATE* CATEGORY*            START*  \\\n",
       "1145  12/30/2016 10:15  12/30/2016 10:33  Business           Karachi   \n",
       "1146  12/30/2016 11:31  12/30/2016 11:56  Business           Karachi   \n",
       "1147  12/30/2016 15:41  12/30/2016 16:03  Business           Karachi   \n",
       "1148  12/30/2016 16:45  12/30/2016 17:08  Business           Karachi   \n",
       "1149  12/30/2016 23:06  12/30/2016 23:10  Business           Karachi   \n",
       "1150   12/31/2016 1:07   12/31/2016 1:14  Business           Karachi   \n",
       "1151  12/31/2016 13:24  12/31/2016 13:42  Business           Karachi   \n",
       "1152  12/31/2016 15:03  12/31/2016 15:38  Business  Unknown Location   \n",
       "1153  12/31/2016 21:32  12/31/2016 21:50  Business        Katunayake   \n",
       "1154  12/31/2016 22:08  12/31/2016 23:51  Business           Gampaha   \n",
       "\n",
       "                 STOP*  MILES*         PURPOSE*  \n",
       "1145           Karachi     2.8  Errand/Supplies  \n",
       "1146           Karachi     2.9  Errand/Supplies  \n",
       "1147           Karachi     4.6  Errand/Supplies  \n",
       "1148           Karachi     4.6          Meeting  \n",
       "1149           Karachi     0.8   Customer Visit  \n",
       "1150           Karachi     0.7          Meeting  \n",
       "1151  Unknown Location     3.9   Temporary Site  \n",
       "1152  Unknown Location    16.2          Meeting  \n",
       "1153           Gampaha     6.4   Temporary Site  \n",
       "1154         Ilukwatta    48.2   Temporary Site  "
      ]
     },
     "execution_count": 4,
     "metadata": {},
     "output_type": "execute_result"
    }
   ],
   "source": [
    "uber.tail(10)"
   ]
  },
  {
   "cell_type": "markdown",
   "metadata": {
    "id": "ipD0ZQ9O198O"
   },
   "source": [
    "## Q2. Show the first 10 records of the dataset. (2 points)"
   ]
  },
  {
   "cell_type": "code",
   "execution_count": 5,
   "metadata": {
    "colab": {
     "base_uri": "https://localhost:8080/",
     "height": 359
    },
    "id": "XzYRsxR1198O",
    "outputId": "453fc6bd-26c1-41d1-82a4-f5bbacda0723"
   },
   "outputs": [
    {
     "data": {
      "text/html": [
       "<div>\n",
       "<style scoped>\n",
       "    .dataframe tbody tr th:only-of-type {\n",
       "        vertical-align: middle;\n",
       "    }\n",
       "\n",
       "    .dataframe tbody tr th {\n",
       "        vertical-align: top;\n",
       "    }\n",
       "\n",
       "    .dataframe thead th {\n",
       "        text-align: right;\n",
       "    }\n",
       "</style>\n",
       "<table border=\"1\" class=\"dataframe\">\n",
       "  <thead>\n",
       "    <tr style=\"text-align: right;\">\n",
       "      <th></th>\n",
       "      <th>START_DATE*</th>\n",
       "      <th>END_DATE*</th>\n",
       "      <th>CATEGORY*</th>\n",
       "      <th>START*</th>\n",
       "      <th>STOP*</th>\n",
       "      <th>MILES*</th>\n",
       "      <th>PURPOSE*</th>\n",
       "    </tr>\n",
       "  </thead>\n",
       "  <tbody>\n",
       "    <tr>\n",
       "      <th>0</th>\n",
       "      <td>01-01-2016 21:11</td>\n",
       "      <td>01-01-2016 21:17</td>\n",
       "      <td>Business</td>\n",
       "      <td>Fort Pierce</td>\n",
       "      <td>Fort Pierce</td>\n",
       "      <td>5.1</td>\n",
       "      <td>Meal/Entertain</td>\n",
       "    </tr>\n",
       "    <tr>\n",
       "      <th>1</th>\n",
       "      <td>01-02-2016 01:25</td>\n",
       "      <td>01-02-2016 01:37</td>\n",
       "      <td>Business</td>\n",
       "      <td>Fort Pierce</td>\n",
       "      <td>Fort Pierce</td>\n",
       "      <td>5.0</td>\n",
       "      <td>NaN</td>\n",
       "    </tr>\n",
       "    <tr>\n",
       "      <th>2</th>\n",
       "      <td>01-02-2016 20:25</td>\n",
       "      <td>01-02-2016 20:38</td>\n",
       "      <td>Business</td>\n",
       "      <td>Fort Pierce</td>\n",
       "      <td>Fort Pierce</td>\n",
       "      <td>4.8</td>\n",
       "      <td>Errand/Supplies</td>\n",
       "    </tr>\n",
       "    <tr>\n",
       "      <th>3</th>\n",
       "      <td>01-05-2016 17:31</td>\n",
       "      <td>01-05-2016 17:45</td>\n",
       "      <td>Business</td>\n",
       "      <td>Fort Pierce</td>\n",
       "      <td>Fort Pierce</td>\n",
       "      <td>4.7</td>\n",
       "      <td>Meeting</td>\n",
       "    </tr>\n",
       "    <tr>\n",
       "      <th>4</th>\n",
       "      <td>01-06-2016 14:42</td>\n",
       "      <td>01-06-2016 15:49</td>\n",
       "      <td>Business</td>\n",
       "      <td>Fort Pierce</td>\n",
       "      <td>West Palm Beach</td>\n",
       "      <td>63.7</td>\n",
       "      <td>Customer Visit</td>\n",
       "    </tr>\n",
       "    <tr>\n",
       "      <th>5</th>\n",
       "      <td>01-06-2016 17:15</td>\n",
       "      <td>01-06-2016 17:19</td>\n",
       "      <td>Business</td>\n",
       "      <td>West Palm Beach</td>\n",
       "      <td>West Palm Beach</td>\n",
       "      <td>4.3</td>\n",
       "      <td>Meal/Entertain</td>\n",
       "    </tr>\n",
       "    <tr>\n",
       "      <th>6</th>\n",
       "      <td>01-06-2016 17:30</td>\n",
       "      <td>01-06-2016 17:35</td>\n",
       "      <td>Business</td>\n",
       "      <td>West Palm Beach</td>\n",
       "      <td>Palm Beach</td>\n",
       "      <td>7.1</td>\n",
       "      <td>Meeting</td>\n",
       "    </tr>\n",
       "    <tr>\n",
       "      <th>7</th>\n",
       "      <td>01-07-2016 13:27</td>\n",
       "      <td>01-07-2016 13:33</td>\n",
       "      <td>Business</td>\n",
       "      <td>Cary</td>\n",
       "      <td>Cary</td>\n",
       "      <td>0.8</td>\n",
       "      <td>Meeting</td>\n",
       "    </tr>\n",
       "    <tr>\n",
       "      <th>8</th>\n",
       "      <td>01-10-2016 08:05</td>\n",
       "      <td>01-10-2016 08:25</td>\n",
       "      <td>Business</td>\n",
       "      <td>Cary</td>\n",
       "      <td>Morrisville</td>\n",
       "      <td>8.3</td>\n",
       "      <td>Meeting</td>\n",
       "    </tr>\n",
       "    <tr>\n",
       "      <th>9</th>\n",
       "      <td>01-10-2016 12:17</td>\n",
       "      <td>01-10-2016 12:44</td>\n",
       "      <td>Business</td>\n",
       "      <td>Jamaica</td>\n",
       "      <td>New York</td>\n",
       "      <td>16.5</td>\n",
       "      <td>Customer Visit</td>\n",
       "    </tr>\n",
       "  </tbody>\n",
       "</table>\n",
       "</div>"
      ],
      "text/plain": [
       "        START_DATE*         END_DATE* CATEGORY*           START*  \\\n",
       "0  01-01-2016 21:11  01-01-2016 21:17  Business      Fort Pierce   \n",
       "1  01-02-2016 01:25  01-02-2016 01:37  Business      Fort Pierce   \n",
       "2  01-02-2016 20:25  01-02-2016 20:38  Business      Fort Pierce   \n",
       "3  01-05-2016 17:31  01-05-2016 17:45  Business      Fort Pierce   \n",
       "4  01-06-2016 14:42  01-06-2016 15:49  Business      Fort Pierce   \n",
       "5  01-06-2016 17:15  01-06-2016 17:19  Business  West Palm Beach   \n",
       "6  01-06-2016 17:30  01-06-2016 17:35  Business  West Palm Beach   \n",
       "7  01-07-2016 13:27  01-07-2016 13:33  Business             Cary   \n",
       "8  01-10-2016 08:05  01-10-2016 08:25  Business             Cary   \n",
       "9  01-10-2016 12:17  01-10-2016 12:44  Business          Jamaica   \n",
       "\n",
       "             STOP*  MILES*         PURPOSE*  \n",
       "0      Fort Pierce     5.1   Meal/Entertain  \n",
       "1      Fort Pierce     5.0              NaN  \n",
       "2      Fort Pierce     4.8  Errand/Supplies  \n",
       "3      Fort Pierce     4.7          Meeting  \n",
       "4  West Palm Beach    63.7   Customer Visit  \n",
       "5  West Palm Beach     4.3   Meal/Entertain  \n",
       "6       Palm Beach     7.1          Meeting  \n",
       "7             Cary     0.8          Meeting  \n",
       "8      Morrisville     8.3          Meeting  \n",
       "9         New York    16.5   Customer Visit  "
      ]
     },
     "execution_count": 5,
     "metadata": {},
     "output_type": "execute_result"
    }
   ],
   "source": [
    "uber.head(10)"
   ]
  },
  {
   "cell_type": "markdown",
   "metadata": {
    "id": "R2F4GX15198S"
   },
   "source": [
    "## Q3. Show the dimension(number of rows and columns) of the dataset. (2 points)"
   ]
  },
  {
   "cell_type": "code",
   "execution_count": 6,
   "metadata": {
    "colab": {
     "base_uri": "https://localhost:8080/"
    },
    "id": "5YAWUNwZ198T",
    "outputId": "36e5d587-b2e3-406b-8678-b8d9ea8aa79a"
   },
   "outputs": [
    {
     "name": "stdout",
     "output_type": "stream",
     "text": [
      "The dataset has 1155 rows and 7 columns\n"
     ]
    }
   ],
   "source": [
    "print(\"The dataset has {} rows and {} columns\".format(uber.shape[0],uber.shape[1]))"
   ]
  },
  {
   "cell_type": "markdown",
   "metadata": {
    "id": "H6x0S6vs198W"
   },
   "source": [
    "## Q4. Show the size (Total number of elements) of the dataset. (2 points)"
   ]
  },
  {
   "cell_type": "code",
   "execution_count": 7,
   "metadata": {
    "colab": {
     "base_uri": "https://localhost:8080/"
    },
    "id": "2IQc1x7D198X",
    "outputId": "1d740ac9-5d96-489e-fd2a-8863d2b94655"
   },
   "outputs": [
    {
     "data": {
      "text/plain": [
       "8085"
      ]
     },
     "execution_count": 7,
     "metadata": {},
     "output_type": "execute_result"
    }
   ],
   "source": [
    "uber.size"
   ]
  },
  {
   "cell_type": "markdown",
   "metadata": {
    "id": "c2ATRpjm198a"
   },
   "source": [
    "## Q5. Display the information about all the variables of the data set. What can you infer from the output?(1 +2 points)\n",
    "\n",
    "#### Hint: Information includes - Total number of columns,variable data-types, number of non-null values in a variable, and usage"
   ]
  },
  {
   "cell_type": "code",
   "execution_count": 8,
   "metadata": {
    "colab": {
     "base_uri": "https://localhost:8080/"
    },
    "id": "D7Pfnrb6198b",
    "outputId": "33673c70-4ae3-410c-8495-a91a44c5a601"
   },
   "outputs": [
    {
     "name": "stdout",
     "output_type": "stream",
     "text": [
      "<class 'pandas.core.frame.DataFrame'>\n",
      "RangeIndex: 1155 entries, 0 to 1154\n",
      "Data columns (total 7 columns):\n",
      " #   Column       Non-Null Count  Dtype  \n",
      "---  ------       --------------  -----  \n",
      " 0   START_DATE*  1155 non-null   object \n",
      " 1   END_DATE*    1155 non-null   object \n",
      " 2   CATEGORY*    1155 non-null   object \n",
      " 3   START*       1155 non-null   object \n",
      " 4   STOP*        1155 non-null   object \n",
      " 5   MILES*       1155 non-null   float64\n",
      " 6   PURPOSE*     653 non-null    object \n",
      "dtypes: float64(1), object(6)\n",
      "memory usage: 63.3+ KB\n"
     ]
    }
   ],
   "source": [
    "uber.info()"
   ]
  },
  {
   "cell_type": "markdown",
   "metadata": {
    "id": "emZkbUV_198g"
   },
   "source": [
    "## Q6. Check for missing values. (2 points) \n",
    "\n",
    "####  Note: Output should contain only one boolean value"
   ]
  },
  {
   "cell_type": "code",
   "execution_count": 9,
   "metadata": {
    "colab": {
     "base_uri": "https://localhost:8080/"
    },
    "id": "XWU-AunT198h",
    "outputId": "cf6a6413-8b96-44a1-a3a6-cd3640761e2d"
   },
   "outputs": [
    {
     "data": {
      "text/plain": [
       "True"
      ]
     },
     "execution_count": 9,
     "metadata": {},
     "output_type": "execute_result"
    }
   ],
   "source": [
    "uber.isnull().sum().any()"
   ]
  },
  {
   "cell_type": "markdown",
   "metadata": {
    "id": "UCvC2OPe198l"
   },
   "source": [
    "## Q7. How many missing values are present in the entire dataset? (2 points)\n"
   ]
  },
  {
   "cell_type": "code",
   "execution_count": 10,
   "metadata": {
    "colab": {
     "base_uri": "https://localhost:8080/"
    },
    "id": "o2-vHyGA198m",
    "outputId": "60923ca7-1704-41c0-9620-6be35e10ed3b"
   },
   "outputs": [
    {
     "data": {
      "text/plain": [
       "502"
      ]
     },
     "execution_count": 10,
     "metadata": {},
     "output_type": "execute_result"
    }
   ],
   "source": [
    "uber.isnull().values.sum()"
   ]
  },
  {
   "cell_type": "markdown",
   "metadata": {
    "id": "617aSeL_198q"
   },
   "source": [
    "## Q8. Get the summary of the original data. (2 points).\n",
    "\n",
    "#### Hint: Summary includes- Count,Mean, Std, Min, 25%,50%,75% and max"
   ]
  },
  {
   "cell_type": "code",
   "execution_count": 11,
   "metadata": {
    "colab": {
     "base_uri": "https://localhost:8080/",
     "height": 297
    },
    "id": "hMkibRQg198q",
    "outputId": "e4e9580a-3465-4bb5-d564-6b14bf8d4adb"
   },
   "outputs": [
    {
     "data": {
      "text/html": [
       "<div>\n",
       "<style scoped>\n",
       "    .dataframe tbody tr th:only-of-type {\n",
       "        vertical-align: middle;\n",
       "    }\n",
       "\n",
       "    .dataframe tbody tr th {\n",
       "        vertical-align: top;\n",
       "    }\n",
       "\n",
       "    .dataframe thead th {\n",
       "        text-align: right;\n",
       "    }\n",
       "</style>\n",
       "<table border=\"1\" class=\"dataframe\">\n",
       "  <thead>\n",
       "    <tr style=\"text-align: right;\">\n",
       "      <th></th>\n",
       "      <th>MILES*</th>\n",
       "    </tr>\n",
       "  </thead>\n",
       "  <tbody>\n",
       "    <tr>\n",
       "      <th>count</th>\n",
       "      <td>1155.000000</td>\n",
       "    </tr>\n",
       "    <tr>\n",
       "      <th>mean</th>\n",
       "      <td>10.566840</td>\n",
       "    </tr>\n",
       "    <tr>\n",
       "      <th>std</th>\n",
       "      <td>21.579106</td>\n",
       "    </tr>\n",
       "    <tr>\n",
       "      <th>min</th>\n",
       "      <td>0.500000</td>\n",
       "    </tr>\n",
       "    <tr>\n",
       "      <th>25%</th>\n",
       "      <td>2.900000</td>\n",
       "    </tr>\n",
       "    <tr>\n",
       "      <th>50%</th>\n",
       "      <td>6.000000</td>\n",
       "    </tr>\n",
       "    <tr>\n",
       "      <th>75%</th>\n",
       "      <td>10.400000</td>\n",
       "    </tr>\n",
       "    <tr>\n",
       "      <th>max</th>\n",
       "      <td>310.300000</td>\n",
       "    </tr>\n",
       "  </tbody>\n",
       "</table>\n",
       "</div>"
      ],
      "text/plain": [
       "            MILES*\n",
       "count  1155.000000\n",
       "mean     10.566840\n",
       "std      21.579106\n",
       "min       0.500000\n",
       "25%       2.900000\n",
       "50%       6.000000\n",
       "75%      10.400000\n",
       "max     310.300000"
      ]
     },
     "execution_count": 11,
     "metadata": {},
     "output_type": "execute_result"
    }
   ],
   "source": [
    "uber.describe()"
   ]
  },
  {
   "cell_type": "markdown",
   "metadata": {
    "id": "8PmU-86n198v"
   },
   "source": [
    "\n",
    "\n",
    "## Q9. Drop the missing values and store the data in a new dataframe (name it\"df\") (2-points)\n",
    "\n",
    "#### Note: Dataframe \"df\" will not contain any missing value"
   ]
  },
  {
   "cell_type": "code",
   "execution_count": 12,
   "metadata": {
    "colab": {
     "base_uri": "https://localhost:8080/"
    },
    "id": "3xZC0dvq198w",
    "outputId": "1a2eb61f-65f4-4344-c151-e7f623a35fe6"
   },
   "outputs": [],
   "source": [
    "df = uber.dropna()"
   ]
  },
  {
   "cell_type": "code",
   "execution_count": 13,
   "metadata": {},
   "outputs": [
    {
     "data": {
      "text/plain": [
       "False"
      ]
     },
     "execution_count": 13,
     "metadata": {},
     "output_type": "execute_result"
    }
   ],
   "source": [
    "df.isnull().values.any()#checking for any missing values after dropping na"
   ]
  },
  {
   "cell_type": "code",
   "execution_count": 14,
   "metadata": {},
   "outputs": [
    {
     "data": {
      "text/plain": [
       "(653, 7)"
      ]
     },
     "execution_count": 14,
     "metadata": {},
     "output_type": "execute_result"
    }
   ],
   "source": [
    "df.shape"
   ]
  },
  {
   "cell_type": "markdown",
   "metadata": {
    "id": "2vIFI9G61983"
   },
   "source": [
    "## Q10. Check the information of the dataframe(df). (1 points)\n",
    "\n",
    "#### Hint: Information includes - Total number of columns,variable data-types, number of non-null values in a variable, and usage"
   ]
  },
  {
   "cell_type": "code",
   "execution_count": 15,
   "metadata": {
    "colab": {
     "base_uri": "https://localhost:8080/"
    },
    "id": "DrmfQwDc1983",
    "outputId": "27394741-1b4e-4249-ee9b-728d388a6855"
   },
   "outputs": [
    {
     "name": "stdout",
     "output_type": "stream",
     "text": [
      "<class 'pandas.core.frame.DataFrame'>\n",
      "Int64Index: 653 entries, 0 to 1154\n",
      "Data columns (total 7 columns):\n",
      " #   Column       Non-Null Count  Dtype  \n",
      "---  ------       --------------  -----  \n",
      " 0   START_DATE*  653 non-null    object \n",
      " 1   END_DATE*    653 non-null    object \n",
      " 2   CATEGORY*    653 non-null    object \n",
      " 3   START*       653 non-null    object \n",
      " 4   STOP*        653 non-null    object \n",
      " 5   MILES*       653 non-null    float64\n",
      " 6   PURPOSE*     653 non-null    object \n",
      "dtypes: float64(1), object(6)\n",
      "memory usage: 40.8+ KB\n"
     ]
    }
   ],
   "source": [
    "df.info()"
   ]
  },
  {
   "cell_type": "markdown",
   "metadata": {
    "id": "Pqm4jhgT1986"
   },
   "source": [
    "## Q11. Get the unique start locations. (2 points)\n",
    "#### Note: This question is based on the dataframe with no 'NA' values"
   ]
  },
  {
   "cell_type": "code",
   "execution_count": 16,
   "metadata": {
    "colab": {
     "base_uri": "https://localhost:8080/"
    },
    "id": "jsuoItZX1987",
    "outputId": "22a926cf-9774-4223-a2d5-cf91ab160401"
   },
   "outputs": [
    {
     "data": {
      "text/plain": [
       "array(['Fort Pierce', 'West Palm Beach', 'Cary', 'Jamaica', 'New York',\n",
       "       'Elmhurst', 'Midtown', 'East Harlem', 'Flatiron District',\n",
       "       'Midtown East', 'Hudson Square', 'Lower Manhattan',\n",
       "       \"Hell's Kitchen\", 'Downtown', 'Gulfton', 'Houston', 'Eagan Park',\n",
       "       'Morrisville', 'Durham', 'Farmington Woods', 'Lake Wellingborough',\n",
       "       'Fayetteville Street', 'Raleigh', 'Whitebridge', 'Hazelwood',\n",
       "       'Fairmont', 'Meredith Townes', 'Apex', 'Chapel Hill', 'Northwoods',\n",
       "       'Edgehill Farms', 'Eastgate', 'East Elmhurst', 'Long Island City',\n",
       "       'Katunayaka', 'Colombo', 'Nugegoda', 'Unknown Location',\n",
       "       'Islamabad', 'R?walpindi', 'Noorpur Shahan', 'Preston',\n",
       "       'Heritage Pines', 'Tanglewood', 'Waverly Place', 'Wayne Ridge',\n",
       "       'Westpark Place', 'East Austin', 'The Drag', 'South Congress',\n",
       "       'Georgian Acres', 'North Austin', 'West University', 'Austin',\n",
       "       'Katy', 'Sharpstown', 'Sugar Land', 'Galveston', 'Port Bolivar',\n",
       "       'Washington Avenue', 'Briar Meadow', 'Latta', 'Jacksonville',\n",
       "       'Lake Reams', 'Orlando', 'Kissimmee', 'Daytona Beach', 'Ridgeland',\n",
       "       'Florence', 'Meredith', 'Holly Springs', 'Chessington', 'Burtrose',\n",
       "       'Parkway', 'Mcvan', 'Capitol One', 'University District',\n",
       "       'Seattle', 'Redmond', 'Bellevue', 'San Francisco', 'Palo Alto',\n",
       "       'Sunnyvale', 'Newark', 'Menlo Park', 'Old City', 'Savon Height',\n",
       "       'Kilarney Woods', 'Townes at Everett Crossing', 'Huntington Woods',\n",
       "       'Weston', 'Seaport', 'Medical Centre', 'Rose Hill', 'Soho',\n",
       "       'Tribeca', 'Financial District', 'Oakland', 'Emeryville',\n",
       "       'Berkeley', 'Kenner', 'CBD', 'Lower Garden District', 'Storyville',\n",
       "       'New Orleans', 'Chalmette', 'Arabi', 'Pontchartrain Shores',\n",
       "       'Metairie', 'Summerwinds', 'Parkwood', 'Banner Elk', 'Boone',\n",
       "       'Stonewater', 'Lexington Park at Amberly', 'Winston Salem',\n",
       "       'Asheville', 'Topton', 'Renaissance', 'Santa Clara', 'Ingleside',\n",
       "       'West Berkeley', 'Mountain View', 'El Cerrito', 'Krendle Woods',\n",
       "       'Fuquay-Varina', 'Rawalpindi', 'Lahore', 'Karachi', 'Katunayake',\n",
       "       'Gampaha'], dtype=object)"
      ]
     },
     "execution_count": 16,
     "metadata": {},
     "output_type": "execute_result"
    }
   ],
   "source": [
    "df['START*'].unique()"
   ]
  },
  {
   "cell_type": "code",
   "execution_count": 19,
   "metadata": {},
   "outputs": [
    {
     "data": {
      "text/plain": [
       "131"
      ]
     },
     "execution_count": 19,
     "metadata": {},
     "output_type": "execute_result"
    }
   ],
   "source": [
    "len(df['START*'].unique()) # with no'NA' values"
   ]
  },
  {
   "cell_type": "markdown",
   "metadata": {
    "id": "s3s-pY1R198_"
   },
   "source": [
    "## Q12. What is the total number of unique start locations? (2 points)\n",
    "#### Note: Use the original dataframe without dropping 'NA' values"
   ]
  },
  {
   "cell_type": "code",
   "execution_count": 20,
   "metadata": {
    "colab": {
     "base_uri": "https://localhost:8080/"
    },
    "id": "OOZy88AA199A",
    "outputId": "e0c77ca6-7379-4546-f980-5e3dc9db8074"
   },
   "outputs": [
    {
     "data": {
      "text/plain": [
       "176"
      ]
     },
     "execution_count": 20,
     "metadata": {},
     "output_type": "execute_result"
    }
   ],
   "source": [
    "len(uber['START*'].unique())"
   ]
  },
  {
   "cell_type": "markdown",
   "metadata": {
    "id": "LuKFv1_P199D"
   },
   "source": [
    "## Q13. What is the total number of unique stop locations. (2 points)\n",
    "#### Note: Use the original dataframe without dropping 'NA' values."
   ]
  },
  {
   "cell_type": "code",
   "execution_count": 21,
   "metadata": {
    "colab": {
     "base_uri": "https://localhost:8080/"
    },
    "id": "5YeWcpZT199E",
    "outputId": "6e7f87a0-29e8-4bd3-9ee2-fc32b5259767"
   },
   "outputs": [
    {
     "data": {
      "text/plain": [
       "187"
      ]
     },
     "execution_count": 21,
     "metadata": {},
     "output_type": "execute_result"
    }
   ],
   "source": [
    "len(uber['STOP*'].unique())"
   ]
  },
  {
   "cell_type": "markdown",
   "metadata": {
    "id": "VmkTnPlt199H"
   },
   "source": [
    "## Q14. Display all Uber trips that has the starting point as San Francisco. (2 points)\n",
    "#### Note: Use the original dataframe without dropping the 'NA' values.\n"
   ]
  },
  {
   "cell_type": "code",
   "execution_count": 22,
   "metadata": {
    "colab": {
     "base_uri": "https://localhost:8080/",
     "height": 297
    },
    "id": "fwhKZQfs199I",
    "outputId": "949bc9c3-ed15-4299-95e4-c42980a2dfd6"
   },
   "outputs": [
    {
     "data": {
      "text/html": [
       "<div>\n",
       "<style scoped>\n",
       "    .dataframe tbody tr th:only-of-type {\n",
       "        vertical-align: middle;\n",
       "    }\n",
       "\n",
       "    .dataframe tbody tr th {\n",
       "        vertical-align: top;\n",
       "    }\n",
       "\n",
       "    .dataframe thead th {\n",
       "        text-align: right;\n",
       "    }\n",
       "</style>\n",
       "<table border=\"1\" class=\"dataframe\">\n",
       "  <thead>\n",
       "    <tr style=\"text-align: right;\">\n",
       "      <th></th>\n",
       "      <th>START_DATE*</th>\n",
       "      <th>END_DATE*</th>\n",
       "      <th>CATEGORY*</th>\n",
       "      <th>START*</th>\n",
       "      <th>STOP*</th>\n",
       "      <th>MILES*</th>\n",
       "      <th>PURPOSE*</th>\n",
       "    </tr>\n",
       "  </thead>\n",
       "  <tbody>\n",
       "    <tr>\n",
       "      <th>362</th>\n",
       "      <td>05-09-2016 14:39</td>\n",
       "      <td>05-09-2016 15:06</td>\n",
       "      <td>Business</td>\n",
       "      <td>San Francisco</td>\n",
       "      <td>Palo Alto</td>\n",
       "      <td>20.5</td>\n",
       "      <td>Between Offices</td>\n",
       "    </tr>\n",
       "    <tr>\n",
       "      <th>440</th>\n",
       "      <td>6/14/2016 16:09</td>\n",
       "      <td>6/14/2016 16:39</td>\n",
       "      <td>Business</td>\n",
       "      <td>San Francisco</td>\n",
       "      <td>Emeryville</td>\n",
       "      <td>11.6</td>\n",
       "      <td>Meeting</td>\n",
       "    </tr>\n",
       "    <tr>\n",
       "      <th>836</th>\n",
       "      <td>10/19/2016 14:02</td>\n",
       "      <td>10/19/2016 14:31</td>\n",
       "      <td>Business</td>\n",
       "      <td>San Francisco</td>\n",
       "      <td>Berkeley</td>\n",
       "      <td>10.8</td>\n",
       "      <td>NaN</td>\n",
       "    </tr>\n",
       "    <tr>\n",
       "      <th>917</th>\n",
       "      <td>11-07-2016 19:17</td>\n",
       "      <td>11-07-2016 19:57</td>\n",
       "      <td>Business</td>\n",
       "      <td>San Francisco</td>\n",
       "      <td>Berkeley</td>\n",
       "      <td>13.2</td>\n",
       "      <td>Between Offices</td>\n",
       "    </tr>\n",
       "    <tr>\n",
       "      <th>919</th>\n",
       "      <td>11-08-2016 12:16</td>\n",
       "      <td>11-08-2016 12:49</td>\n",
       "      <td>Business</td>\n",
       "      <td>San Francisco</td>\n",
       "      <td>Berkeley</td>\n",
       "      <td>11.3</td>\n",
       "      <td>Meeting</td>\n",
       "    </tr>\n",
       "    <tr>\n",
       "      <th>927</th>\n",
       "      <td>11-09-2016 18:40</td>\n",
       "      <td>11-09-2016 19:17</td>\n",
       "      <td>Business</td>\n",
       "      <td>San Francisco</td>\n",
       "      <td>Oakland</td>\n",
       "      <td>12.7</td>\n",
       "      <td>Customer Visit</td>\n",
       "    </tr>\n",
       "    <tr>\n",
       "      <th>933</th>\n",
       "      <td>11-10-2016 15:17</td>\n",
       "      <td>11-10-2016 15:22</td>\n",
       "      <td>Business</td>\n",
       "      <td>San Francisco</td>\n",
       "      <td>Oakland</td>\n",
       "      <td>9.9</td>\n",
       "      <td>Temporary Site</td>\n",
       "    </tr>\n",
       "    <tr>\n",
       "      <th>966</th>\n",
       "      <td>11/15/2016 20:44</td>\n",
       "      <td>11/15/2016 21:00</td>\n",
       "      <td>Business</td>\n",
       "      <td>San Francisco</td>\n",
       "      <td>Berkeley</td>\n",
       "      <td>11.8</td>\n",
       "      <td>Temporary Site</td>\n",
       "    </tr>\n",
       "  </tbody>\n",
       "</table>\n",
       "</div>"
      ],
      "text/plain": [
       "          START_DATE*         END_DATE* CATEGORY*         START*       STOP*  \\\n",
       "362  05-09-2016 14:39  05-09-2016 15:06  Business  San Francisco   Palo Alto   \n",
       "440   6/14/2016 16:09   6/14/2016 16:39  Business  San Francisco  Emeryville   \n",
       "836  10/19/2016 14:02  10/19/2016 14:31  Business  San Francisco    Berkeley   \n",
       "917  11-07-2016 19:17  11-07-2016 19:57  Business  San Francisco    Berkeley   \n",
       "919  11-08-2016 12:16  11-08-2016 12:49  Business  San Francisco    Berkeley   \n",
       "927  11-09-2016 18:40  11-09-2016 19:17  Business  San Francisco     Oakland   \n",
       "933  11-10-2016 15:17  11-10-2016 15:22  Business  San Francisco     Oakland   \n",
       "966  11/15/2016 20:44  11/15/2016 21:00  Business  San Francisco    Berkeley   \n",
       "\n",
       "     MILES*         PURPOSE*  \n",
       "362    20.5  Between Offices  \n",
       "440    11.6          Meeting  \n",
       "836    10.8              NaN  \n",
       "917    13.2  Between Offices  \n",
       "919    11.3          Meeting  \n",
       "927    12.7   Customer Visit  \n",
       "933     9.9   Temporary Site  \n",
       "966    11.8   Temporary Site  "
      ]
     },
     "execution_count": 22,
     "metadata": {},
     "output_type": "execute_result"
    }
   ],
   "source": [
    "Trips = uber[uber['START*'] == 'San Francisco']\n",
    "Trips"
   ]
  },
  {
   "cell_type": "markdown",
   "metadata": {
    "id": "ZMsuzJcG199O"
   },
   "source": [
    "## Q15. What is the most popular starting point for the Uber drivers? (2 points)\n",
    "#### Note: Use the original dataframe without dropping the 'NA' values.\n",
    "\n",
    "#### Hint:Popular means the place that is visited the most"
   ]
  },
  {
   "cell_type": "code",
   "execution_count": 23,
   "metadata": {
    "colab": {
     "base_uri": "https://localhost:8080/"
    },
    "id": "a5QGyjza199P",
    "outputId": "e811a583-6780-4729-90ab-6f1e3a3e2716"
   },
   "outputs": [
    {
     "data": {
      "text/plain": [
       "Cary    201\n",
       "Name: START*, dtype: int64"
      ]
     },
     "execution_count": 23,
     "metadata": {},
     "output_type": "execute_result"
    }
   ],
   "source": [
    "uber['START*'].value_counts().head(1)"
   ]
  },
  {
   "cell_type": "markdown",
   "metadata": {
    "id": "S13-HiPG199T"
   },
   "source": [
    "## Q16. What is the most popular dropping point for the Uber drivers? (2 points)\n",
    "#### Note: Use the original dataframe without dropping the 'NA' values.\n",
    "\n",
    "#### Hint: Popular means the place that is visited the most"
   ]
  },
  {
   "cell_type": "code",
   "execution_count": 24,
   "metadata": {
    "colab": {
     "base_uri": "https://localhost:8080/"
    },
    "id": "YP-hwvNT199T",
    "outputId": "725bec1c-38bc-401f-f71d-dc23d22640cd"
   },
   "outputs": [
    {
     "data": {
      "text/plain": [
       "Cary    203\n",
       "Name: STOP*, dtype: int64"
      ]
     },
     "execution_count": 24,
     "metadata": {},
     "output_type": "execute_result"
    }
   ],
   "source": [
    "uber['STOP*'].value_counts().head(1)"
   ]
  },
  {
   "cell_type": "markdown",
   "metadata": {
    "id": "6Iqizk7B199W"
   },
   "source": [
    "## Q17. What is the most frequent route taken by Uber drivers. (3 points)\n",
    "#### Note: This question is based on the new dataframe with no 'na' values.\n",
    "#### Hint-Print the most frequent route taken by Uber drivers (Route= combination of START & END points present in the Data set)."
   ]
  },
  {
   "cell_type": "code",
   "execution_count": 25,
   "metadata": {
    "colab": {
     "base_uri": "https://localhost:8080/"
    },
    "id": "f41v9gc4199X",
    "outputId": "80499077-8872-4f3f-a504-d648ad8ec910"
   },
   "outputs": [
    {
     "data": {
      "text/plain": [
       "START*            STOP*           \n",
       "Unknown Location  Unknown Location    334.0\n",
       "Cary              Durham              312.3\n",
       "Latta             Jacksonville        310.3\n",
       "Durham            Cary                298.4\n",
       "Cary              Morrisville         293.7\n",
       "Raleigh           Cary                269.5\n",
       "Morrisville       Cary                250.6\n",
       "Cary              Cary                233.9\n",
       "                  Raleigh             230.4\n",
       "Jacksonville      Kissimmee           201.0\n",
       "Name: MILES*, dtype: float64"
      ]
     },
     "execution_count": 25,
     "metadata": {},
     "output_type": "execute_result"
    }
   ],
   "source": [
    "df.groupby(['START*','STOP*'])['MILES*'].sum().sort_values(ascending=False).head(10)"
   ]
  },
  {
   "cell_type": "code",
   "execution_count": 26,
   "metadata": {},
   "outputs": [
    {
     "data": {
      "text/plain": [
       "START*  STOP* \n",
       "Cary    Durham    312.3\n",
       "Name: MILES*, dtype: float64"
      ]
     },
     "execution_count": 26,
     "metadata": {},
     "output_type": "execute_result"
    }
   ],
   "source": [
    "# Dropping unknown location\n",
    "df1 = df[df['START*']!= 'Unknown Location']\n",
    "df2 = df1[df1['STOP*']!= 'Unknown Location']\n",
    "df2.groupby(['START*','STOP*'])['MILES*'].sum().sort_values(ascending=False).head(1)"
   ]
  },
  {
   "cell_type": "markdown",
   "metadata": {
    "id": "oBrYyZ-L199Z"
   },
   "source": [
    "## Q18. Display all types of purposes for the trip in an array. (2 points)\n",
    "#### Note: This question is based on the new dataframe with no 'NA' values."
   ]
  },
  {
   "cell_type": "code",
   "execution_count": 27,
   "metadata": {
    "colab": {
     "base_uri": "https://localhost:8080/"
    },
    "id": "p3fe_lTe199a",
    "outputId": "42c0d950-2141-4e13-9684-27b3c4dda5b2"
   },
   "outputs": [
    {
     "data": {
      "text/plain": [
       "array(['Meal/Entertain', 'Errand/Supplies', 'Meeting', 'Customer Visit',\n",
       "       'Temporary Site', 'Between Offices', 'Charity ($)', 'Commute',\n",
       "       'Moving', 'Airport/Travel'], dtype=object)"
      ]
     },
     "execution_count": 27,
     "metadata": {},
     "output_type": "execute_result"
    }
   ],
   "source": [
    "Types = np.array(df['PURPOSE*'].unique())\n",
    "Types"
   ]
  },
  {
   "cell_type": "markdown",
   "metadata": {
    "id": "WBN9Ufxc199d"
   },
   "source": [
    "## Q19. Plot a bar graph of Purpose vs Miles(Distance). What can you infer from the plot(2 +2 points)\n",
    "#### Note: Use the original dataframe without dropping the 'NA' values.\n",
    "#### Hint:You have to plot total/sum miles per purpose"
   ]
  },
  {
   "cell_type": "code",
   "execution_count": 28,
   "metadata": {
    "colab": {
     "base_uri": "https://localhost:8080/",
     "height": 351
    },
    "id": "JaNSQ_qSa-Rg",
    "outputId": "4314b7a0-0f56-441d-ee93-e9c723e75115"
   },
   "outputs": [
    {
     "data": {
      "text/plain": [
       "PURPOSE*\n",
       "Meeting            2851.3\n",
       "Customer Visit     2089.5\n",
       "Meal/Entertain      911.7\n",
       "Temporary Site      523.7\n",
       "Errand/Supplies     508.0\n",
       "Between Offices     197.0\n",
       "Commute             180.2\n",
       "Moving               18.2\n",
       "Airport/Travel       16.5\n",
       "Charity ($)          15.1\n",
       "Name: MILES*, dtype: float64"
      ]
     },
     "execution_count": 28,
     "metadata": {},
     "output_type": "execute_result"
    }
   ],
   "source": [
    "d3 = uber.groupby('PURPOSE*')['MILES*'].sum().sort_values(ascending=False).head(10)\n",
    "d3"
   ]
  },
  {
   "cell_type": "code",
   "execution_count": 29,
   "metadata": {},
   "outputs": [
    {
     "data": {
      "image/png": "[encoded data removed]",
      "text/plain": [
       "<Figure size 432x288 with 1 Axes>"
      ]
     },
     "metadata": {
      "needs_background": "light"
     },
     "output_type": "display_data"
    }
   ],
   "source": [
    "d3 = d3.reset_index()\n",
    "d3\n",
    "d3.columns = ['PURPOSE*', 'Sum_Miles']\n",
    "d3\n",
    "sns.barplot(data = d3, x = 'PURPOSE*', y = 'Sum_Miles')\n",
    "plt.xticks(rotation=90)\n",
    "plt.show()"
   ]
  },
  {
   "cell_type": "markdown",
   "metadata": {
    "id": "b7-pD446199j"
   },
   "source": [
    "## Q20. Display a dataframe of Purpose and the total distance travelled for that particular Purpose. (3 points)\n",
    "#### Note: Use the original dataframe without dropping \"NA\" values"
   ]
  },
  {
   "cell_type": "code",
   "execution_count": 30,
   "metadata": {
    "colab": {
     "base_uri": "https://localhost:8080/",
     "height": 390
    },
    "id": "Em4d7Ng9199k",
    "outputId": "abe48585-adf0-4848-bc0e-7023e883f12c"
   },
   "outputs": [
    {
     "data": {
      "text/plain": [
       "PURPOSE*\n",
       "Meeting            2851.3\n",
       "Customer Visit     2089.5\n",
       "Meal/Entertain      911.7\n",
       "Temporary Site      523.7\n",
       "Errand/Supplies     508.0\n",
       "Between Offices     197.0\n",
       "Commute             180.2\n",
       "Moving               18.2\n",
       "Airport/Travel       16.5\n",
       "Charity ($)          15.1\n",
       "Name: MILES*, dtype: float64"
      ]
     },
     "execution_count": 30,
     "metadata": {},
     "output_type": "execute_result"
    }
   ],
   "source": [
    "uber.groupby('PURPOSE*')['MILES*'].sum().sort_values(ascending=False)"
   ]
  },
  {
   "cell_type": "markdown",
   "metadata": {
    "id": "CIZBaeSt199o"
   },
   "source": [
    "## Q21. Generate a plot showing count of trips vs category of trips. What can you infer from the plot (2 +1 points)\n",
    "#### Note: Use the original dataframe without dropping the 'NA' values."
   ]
  },
  {
   "cell_type": "code",
   "execution_count": 31,
   "metadata": {
    "colab": {
     "base_uri": "https://localhost:8080/"
    },
    "id": "fRuxSI0W199p",
    "outputId": "adc11110-b792-40e9-e875-f5e0479037ee"
   },
   "outputs": [
    {
     "data": {
      "text/plain": [
       "Business    1078\n",
       "Personal      77\n",
       "Name: CATEGORY*, dtype: int64"
      ]
     },
     "execution_count": 31,
     "metadata": {},
     "output_type": "execute_result"
    }
   ],
   "source": [
    "uber['CATEGORY*'].value_counts()"
   ]
  },
  {
   "cell_type": "code",
   "execution_count": 32,
   "metadata": {},
   "outputs": [
    {
     "data": {
      "image/png": "[encoded data removed]",
      "text/plain": [
       "<Figure size 432x288 with 1 Axes>"
      ]
     },
     "metadata": {
      "needs_background": "light"
     },
     "output_type": "display_data"
    }
   ],
   "source": [
    "sns.countplot(uber['CATEGORY*'])\n",
    "plt.show()"
   ]
  },
  {
   "cell_type": "markdown",
   "metadata": {
    "id": "VgzSzOt9199t"
   },
   "source": [
    "## Q22. What percentage of Miles were clocked under Business Category and what percentage of Miles were clocked under Personal Category ? (3 points)\n",
    "\n",
    "### Note:Use the original dataframe without dropping the 'NA' values. \n"
   ]
  },
  {
   "cell_type": "code",
   "execution_count": 33,
   "metadata": {
    "colab": {
     "base_uri": "https://localhost:8080/",
     "height": 142
    },
    "id": "K6ExiAiI199u",
    "outputId": "10af8841-c69f-40a1-a97f-5385f54d463e"
   },
   "outputs": [
    {
     "data": {
      "text/plain": [
       "CATEGORY*\n",
       "Business    11487.0\n",
       "Personal      717.7\n",
       "Name: MILES*, dtype: float64"
      ]
     },
     "execution_count": 33,
     "metadata": {},
     "output_type": "execute_result"
    }
   ],
   "source": [
    "# miles earned per category and purpose ?\n",
    "uber.groupby('CATEGORY*').sum()['MILES*'].sort_values(ascending = False)"
   ]
  },
  {
   "cell_type": "code",
   "execution_count": 34,
   "metadata": {},
   "outputs": [
    {
     "data": {
      "text/html": [
       "<div>\n",
       "<style scoped>\n",
       "    .dataframe tbody tr th:only-of-type {\n",
       "        vertical-align: middle;\n",
       "    }\n",
       "\n",
       "    .dataframe tbody tr th {\n",
       "        vertical-align: top;\n",
       "    }\n",
       "\n",
       "    .dataframe thead th {\n",
       "        text-align: right;\n",
       "    }\n",
       "</style>\n",
       "<table border=\"1\" class=\"dataframe\">\n",
       "  <thead>\n",
       "    <tr style=\"text-align: right;\">\n",
       "      <th></th>\n",
       "      <th>MILES*</th>\n",
       "    </tr>\n",
       "    <tr>\n",
       "      <th>CATEGORY*</th>\n",
       "      <th></th>\n",
       "    </tr>\n",
       "  </thead>\n",
       "  <tbody>\n",
       "    <tr>\n",
       "      <th>Business</th>\n",
       "      <td>94.119479</td>\n",
       "    </tr>\n",
       "    <tr>\n",
       "      <th>Personal</th>\n",
       "      <td>5.880521</td>\n",
       "    </tr>\n",
       "  </tbody>\n",
       "</table>\n",
       "</div>"
      ],
      "text/plain": [
       "              MILES*\n",
       "CATEGORY*           \n",
       "Business   94.119479\n",
       "Personal    5.880521"
      ]
     },
     "execution_count": 34,
     "metadata": {},
     "output_type": "execute_result"
    }
   ],
   "source": [
    "# percentage of business miles vs personal\n",
    "percentage = uber.groupby('CATEGORY*').agg({'MILES*':'sum'})\n",
    "percentage\n",
    "percentage.apply(lambda x: x/x.sum()*100).rename(columns = {'MILES':'% of Miles'})"
   ]
  },
  {
   "cell_type": "markdown",
   "metadata": {
    "id": "_kYn6PGTUntA"
   },
   "source": [
    "***THE END***"
   ]
  }
 ],
 "metadata": {
  "colab": {
   "collapsed_sections": [],
   "name": "PDS_UberDriveProject_Solution1.ipynb",
   "provenance": []
  },
  "kernelspec": {
   "display_name": "Python 3",
   "language": "python",
   "name": "python3"
  },
  "language_info": {
   "codemirror_mode": {
    "name": "ipython",
    "version": 3
   },
   "file_extension": ".py",
   "mimetype": "text/x-python",
   "name": "python",
   "nbconvert_exporter": "python",
   "pygments_lexer": "ipython3",
   "version": "3.8.8"
  },
  "toc": {
   "base_numbering": 1,
   "nav_menu": {},
   "number_sections": true,
   "sideBar": true,
   "skip_h1_title": false,
   "title_cell": "Table of Contents",
   "title_sidebar": "Contents",
   "toc_cell": false,
   "toc_position": {},
   "toc_section_display": true,
   "toc_window_display": false
  },
  "varInspector": {
   "cols": {
    "lenName": 16,
    "lenType": 16,
    "lenVar": 40
   },
   "kernels_config": {
    "python": {
     "delete_cmd_postfix": "",
     "delete_cmd_prefix": "del ",
     "library": "var_list.py",
     "varRefreshCmd": "print(var_dic_list())"
    },
    "r": {
     "delete_cmd_postfix": ") ",
     "delete_cmd_prefix": "rm(",
     "library": "var_list.r",
     "varRefreshCmd": "cat(var_dic_list()) "
    }
   },
   "types_to_exclude": [
    "module",
    "function",
    "builtin_function_or_method",
    "instance",
    "_Feature"
   ],
   "window_display": false
  }
 },
 "nbformat": 4,
 "nbformat_minor": 1
}
